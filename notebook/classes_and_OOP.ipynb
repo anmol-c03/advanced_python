{
 "cells": [
  {
   "cell_type": "markdown",
   "id": "58022a27-f7f7-4534-94c1-27a85b20a250",
   "metadata": {},
   "source": [
    "# instance variable and class variables"
   ]
  },
  {
   "cell_type": "code",
   "execution_count": 1,
   "id": "71ae74b7-0801-4c66-808b-453ddb7a0648",
   "metadata": {},
   "outputs": [
    {
     "name": "stdout",
     "output_type": "stream",
     "text": [
      "Anmolchalise@abc.com\n",
      "20000\n",
      "Aakriti chalise\n",
      "2\n"
     ]
    }
   ],
   "source": [
    "class student:\n",
    "    num_of_std=0     # each time we create an instance it should increase by 1\n",
    "    extra_charge=0.02\n",
    "    admission_charge=20000\n",
    "    def __init__(self,fname,lname):\n",
    "        self.fname=fname\n",
    "        self.lname=lname\n",
    "        self.email=fname+lname+'@abc.com'\n",
    "        student.num_of_std+=1\n",
    "\n",
    "    #class method .doesnot require any instance. class is passed as parameter\n",
    "    @classmethod\n",
    "    def admission_fee(cls):\n",
    "        return student.admission_charge\n",
    "\n",
    "    def extra_pay(self):\n",
    "        return student.admissoin_charge*self.extra_charge\n",
    "        \n",
    "    def full_name(self):\n",
    "        return f'{self.fname} {self.lname}'\n",
    "    \n",
    "    \n",
    "std1=student('Anmol','chalise')\n",
    "std2=student('Aakriti','chalise')\n",
    "\n",
    "print(std1.email)\n",
    "print(student.admission_fee())\n",
    "print(std2.full_name())\n",
    "print(student.num_of_std)\n"
   ]
  },
  {
   "cell_type": "code",
   "execution_count": 2,
   "id": "98cd7399-e027-4454-aa7c-e1647663c7aa",
   "metadata": {},
   "outputs": [
    {
     "name": "stdout",
     "output_type": "stream",
     "text": [
      "0.02\n",
      "0.02\n",
      "0.04\n",
      "0.04\n"
     ]
    }
   ],
   "source": [
    "# extra_charge will be diff for diff std\n",
    "print(std1.extra_charge)\n",
    "print(std2.extra_charge) # only extra_charge for std1 changes\n",
    "student.extra_charge=0.04  # extra charge for all instances changes\n",
    "print(std1.extra_charge)\n",
    "print(std2.extra_charge)\n"
   ]
  },
  {
   "cell_type": "code",
   "execution_count": 3,
   "id": "75e07cb6-3957-463f-bdac-9143a3081c97",
   "metadata": {},
   "outputs": [
    {
     "name": "stdout",
     "output_type": "stream",
     "text": [
      "{'fname': 'Anmol', 'lname': 'chalise', 'email': 'Anmolchalise@abc.com'}\n"
     ]
    }
   ],
   "source": [
    "print(std1.__dict__)"
   ]
  },
  {
   "cell_type": "code",
   "execution_count": 4,
   "id": "00ba1a26-7494-418f-903e-a47c41683884",
   "metadata": {},
   "outputs": [
    {
     "name": "stdout",
     "output_type": "stream",
     "text": [
      "0.04\n",
      "0.03\n"
     ]
    }
   ],
   "source": [
    "print(std1.extra_charge)#it first look up to for class if it contains that variable and then creates its instance variable \n",
    "std1.extra_charge=0.03\n",
    "print(std1.extra_charge)"
   ]
  },
  {
   "cell_type": "code",
   "execution_count": 5,
   "id": "cdc3445a-ba99-4075-ae3e-77377cd9611e",
   "metadata": {},
   "outputs": [
    {
     "name": "stdout",
     "output_type": "stream",
     "text": [
      "{'fname': 'Anmol', 'lname': 'chalise', 'email': 'Anmolchalise@abc.com', 'extra_charge': 0.03}\n"
     ]
    }
   ],
   "source": [
    "print(std1.__dict__)"
   ]
  },
  {
   "cell_type": "markdown",
   "id": "8e363905-a1f6-45de-aad7-a8323db4f982",
   "metadata": {},
   "source": [
    "# class methods as alternative constructors\n"
   ]
  },
  {
   "cell_type": "code",
   "execution_count": 6,
   "id": "80a2671b-010c-406b-a624-cc28882cb391",
   "metadata": {},
   "outputs": [
    {
     "name": "stdout",
     "output_type": "stream",
     "text": [
      "20000\n",
      "30000\n",
      "Anmol Chalise\n"
     ]
    }
   ],
   "source": [
    "class student_alt_cons(student):\n",
    "    @classmethod\n",
    "    def raise_admission_fee(cls):\n",
    "        cls.admission_charge=30000\n",
    "\n",
    "    # as alt cons\n",
    "    @classmethod\n",
    "    def from_string(cls,std_str):#its convention/practice for class method as alt cons to start with from\n",
    "        fname,lname=std_str.split('-')\n",
    "        return cls(fname,lname)\n",
    "        \n",
    "student_alt_cons.raise_admission_fee()\n",
    "print(student.admission_charge)\n",
    "print(student_alt_cons.admission_charge)\n",
    "\n",
    "# for from_string\n",
    "std_str_1='Anmol-Chalise'\n",
    "alt_cons=student_alt_cons.from_string(std_str_1)\n",
    "print(f'{alt_cons.fname} {alt_cons.lname}')\n",
    "\n",
    "#above implementation of from_string is same as \n",
    "\n",
    "# str='Anmol-chalise'\n",
    "# fname,lname=str.split('-')\n",
    "# new_alt_cons=student_alt_cons(fname,lname)\n",
    "# print(f'{new_alt_cons.fname} {new_alt_cons.lname}')\n",
    "\n"
   ]
  },
  {
   "cell_type": "markdown",
   "id": "d2c6c47c-68d2-4a1d-8869-27d6ea2e5f4f",
   "metadata": {},
   "source": [
    "# static methods"
   ]
  },
  {
   "cell_type": "code",
   "execution_count": 7,
   "id": "e9d2f2cc-ff51-4254-bca7-d9c7537dfafc",
   "metadata": {},
   "outputs": [
    {
     "name": "stdout",
     "output_type": "stream",
     "text": [
      "False\n",
      "False\n"
     ]
    }
   ],
   "source": [
    "# The main concept behind static methods is that it doesnot operate in any instance or class \n",
    "# but is logically connected to a class\n",
    "class std_static_mtd(student_alt_cons):\n",
    "\n",
    "    def __init__(self):\n",
    "        pass\n",
    "    \n",
    "    @staticmethod\n",
    "    def is_holiday(day):\n",
    "        if day.weekday()==5 or day.weekday()==6:\n",
    "            return False\n",
    "        return True\n",
    "\n",
    "import datetime\n",
    "today_date=datetime.date(2023,5,28)\n",
    "\n",
    "print(std_static_mtd.is_holiday(today_date))\n",
    "#another way of doing this\n",
    "static_mtd_1=std_static_mtd()\n",
    "print(static_mtd_1.is_holiday(today_date))\n",
    "\n",
    "    "
   ]
  },
  {
   "cell_type": "code",
   "execution_count": 8,
   "id": "211fb670-a9f9-4987-ba37-346ce34681f7",
   "metadata": {},
   "outputs": [
    {
     "name": "stdout",
     "output_type": "stream",
     "text": [
      "Help on class std_static_mtd in module __main__:\n",
      "\n",
      "class std_static_mtd(student_alt_cons)\n",
      " |  Method resolution order:\n",
      " |      std_static_mtd\n",
      " |      student_alt_cons\n",
      " |      student\n",
      " |      builtins.object\n",
      " |  \n",
      " |  Methods defined here:\n",
      " |  \n",
      " |  __init__(self)\n",
      " |      Initialize self.  See help(type(self)) for accurate signature.\n",
      " |  \n",
      " |  ----------------------------------------------------------------------\n",
      " |  Static methods defined here:\n",
      " |  \n",
      " |  is_holiday(day)\n",
      " |  \n",
      " |  ----------------------------------------------------------------------\n",
      " |  Class methods inherited from student_alt_cons:\n",
      " |  \n",
      " |  from_string(std_str) from builtins.type\n",
      " |      # as alt cons\n",
      " |  \n",
      " |  raise_admission_fee() from builtins.type\n",
      " |  \n",
      " |  ----------------------------------------------------------------------\n",
      " |  Data and other attributes inherited from student_alt_cons:\n",
      " |  \n",
      " |  admission_charge = 30000\n",
      " |  \n",
      " |  ----------------------------------------------------------------------\n",
      " |  Methods inherited from student:\n",
      " |  \n",
      " |  extra_pay(self)\n",
      " |  \n",
      " |  full_name(self)\n",
      " |  \n",
      " |  ----------------------------------------------------------------------\n",
      " |  Class methods inherited from student:\n",
      " |  \n",
      " |  admission_fee() from builtins.type\n",
      " |      #class method .doesnot require any instance. class is passed as parameter\n",
      " |  \n",
      " |  ----------------------------------------------------------------------\n",
      " |  Data descriptors inherited from student:\n",
      " |  \n",
      " |  __dict__\n",
      " |      dictionary for instance variables (if defined)\n",
      " |  \n",
      " |  __weakref__\n",
      " |      list of weak references to the object (if defined)\n",
      " |  \n",
      " |  ----------------------------------------------------------------------\n",
      " |  Data and other attributes inherited from student:\n",
      " |  \n",
      " |  extra_charge = 0.04\n",
      " |  \n",
      " |  num_of_std = 3\n",
      "\n",
      "None\n"
     ]
    }
   ],
   "source": [
    "#we can see all the inherited functionalities using help function\n",
    "print(help(std_static_mtd))"
   ]
  },
  {
   "cell_type": "code",
   "execution_count": 9,
   "id": "fea621ff-8f90-40f1-817f-81c349999e27",
   "metadata": {},
   "outputs": [
    {
     "data": {
      "text/plain": [
       "mappingproxy({'__module__': '__main__',\n",
       "              '__init__': <function __main__.std_static_mtd.__init__(self)>,\n",
       "              'is_holiday': <staticmethod(<function std_static_mtd.is_holiday at 0x104be2200>)>,\n",
       "              '__doc__': None})"
      ]
     },
     "execution_count": 9,
     "metadata": {},
     "output_type": "execute_result"
    }
   ],
   "source": [
    "std_static_mtd.__dict__"
   ]
  },
  {
   "cell_type": "markdown",
   "id": "7481ea77-1fbf-4190-8335-e40fb65bc77d",
   "metadata": {},
   "source": [
    "# Inheritance\n"
   ]
  },
  {
   "cell_type": "code",
   "execution_count": 61,
   "id": "f4d4ccb0-543d-4d40-bc17-22a64599ccb5",
   "metadata": {},
   "outputs": [
    {
     "ename": "AttributeError",
     "evalue": "'physics_student' object has no attribute 'email'",
     "output_type": "error",
     "traceback": [
      "\u001b[0;31m---------------------------------------------------------------------------\u001b[0m",
      "\u001b[0;31mAttributeError\u001b[0m                            Traceback (most recent call last)",
      "Cell \u001b[0;32mIn[61], line 8\u001b[0m\n\u001b[1;32m      6\u001b[0m         \u001b[38;5;28mself\u001b[39m\u001b[38;5;241m.\u001b[39mfaculty\u001b[38;5;241m=\u001b[39mfaculty\n\u001b[1;32m      7\u001b[0m phy_std\u001b[38;5;241m=\u001b[39mphysics_student(\u001b[38;5;124m'\u001b[39m\u001b[38;5;124mRahul\u001b[39m\u001b[38;5;124m'\u001b[39m,\u001b[38;5;124m'\u001b[39m\u001b[38;5;124mGupta\u001b[39m\u001b[38;5;124m'\u001b[39m,\u001b[38;5;124m'\u001b[39m\u001b[38;5;124mtheoretical_physics\u001b[39m\u001b[38;5;124m'\u001b[39m)\n\u001b[0;32m----> 8\u001b[0m \u001b[38;5;28mprint\u001b[39m(\u001b[43mphy_std\u001b[49m\u001b[38;5;241;43m.\u001b[39;49m\u001b[43memail\u001b[49m)\n",
      "\u001b[0;31mAttributeError\u001b[0m: 'physics_student' object has no attribute 'email'"
     ]
    }
   ],
   "source": [
    "class physics_student(student):\n",
    "    def __init__(self,fname,lname,faculty):\n",
    "        super(student,self).__init__()\n",
    "        #another way of initializing using parent class\n",
    "        # student.__init__(self,fname,lname)\n",
    "        self.faculty=faculty\n",
    "phy_std=physics_student('Rahul','Gupta','theoretical_physics')\n",
    "print(phy_std.email)"
   ]
  },
  {
   "cell_type": "code",
   "execution_count": 11,
   "id": "3b1e28db-1861-4dcb-aa61-87b91c826779",
   "metadata": {},
   "outputs": [
    {
     "name": "stdout",
     "output_type": "stream",
     "text": [
      "True\n",
      "True\n",
      "False\n"
     ]
    }
   ],
   "source": [
    "# using isinstance which might become handy during multiple  and hierarchical inheritances for debugging purpose\n",
    "print(isinstance(phy_std,student))\n",
    "print(isinstance(phy_std,physics_student))\n",
    "print(isinstance(phy_std,student_alt_cons))\n"
   ]
  },
  {
   "cell_type": "code",
   "execution_count": 12,
   "id": "cbf50835-30c9-4876-8984-ff7bcdde8555",
   "metadata": {},
   "outputs": [
    {
     "name": "stdout",
     "output_type": "stream",
     "text": [
      "True\n",
      "False\n"
     ]
    }
   ],
   "source": [
    "# using issubclass which might become handy during multiple  and hierarchical inheritances for debugging purpose\n",
    "print(issubclass(physics_student,student))\n",
    "print(issubclass(physics_student,student_alt_cons))"
   ]
  },
  {
   "cell_type": "markdown",
   "id": "81e8897f-fe5a-478b-a6be-ddde3c251ff6",
   "metadata": {},
   "source": [
    "# special methods(magic/dunder)"
   ]
  },
  {
   "cell_type": "code",
   "execution_count": 103,
   "id": "195efd32-62fa-4b79-89c7-581e8f943a09",
   "metadata": {},
   "outputs": [
    {
     "name": "stdout",
     "output_type": "stream",
     "text": [
      "Anmol chalise Anmolchalise@abc.com\n",
      "student(\"Anmol\",\"chalise\")\n",
      "Anmol chalise Anmolchalise@abc.com\n",
      "total fee 33000\n",
      "length of student name is 13\n",
      "{'fname': 'Anmol', 'lname': 'chalise', 'email': 'Anmolchalise@abc.com', 'fee': 3000}\n"
     ]
    }
   ],
   "source": [
    "## any methods that are preceeded and followed by __\n",
    "# eg __init__,__str__,__call__,__repr__,__iter__\n",
    "\n",
    "class student:\n",
    "    num_of_std=0\n",
    "    def __init__(self,fname,lname,fee=20000):\n",
    "        self.fname=fname\n",
    "        self.lname=lname\n",
    "        self.email=fname+lname+'@abc.com'\n",
    "        self.fee=fee\n",
    "        student.num_of_std+=1\n",
    "\n",
    "    def full_name(self):\n",
    "        return f'{self.fname} {self.lname}'\n",
    "\n",
    "    def __repr__(self):\n",
    "        return f'student(\"{self.fname}\",\"{self.lname}\")'\n",
    "\n",
    "    def __str__(self):\n",
    "        return f'{self.full_name()} {self.email}'\n",
    "\n",
    "    def __add__(self,another):\n",
    "        return f'total fee {self.fee+another.fee}'\n",
    "\n",
    "    def __len__(self):\n",
    "        return len(self.full_name())\n",
    "        \n",
    "\n",
    "std1=student('Anmol','chalise',3000)\n",
    "std2=student('Arima','meheta',30000)\n",
    "\n",
    "print(std1)\n",
    "\n",
    "print(repr(std1))\n",
    "print(str(std1))\n",
    "\n",
    "print(std1+std2)\n",
    "\n",
    "print(f'length of student name is {len(std1)}')\n",
    "\n",
    "print(std1.__dict__)\n",
    "##same as using\n",
    "# print(std1.__repr__)\n",
    "# print(std1.__str__)"
   ]
  },
  {
   "cell_type": "markdown",
   "id": "82344616-464c-4078-932d-4f7075a0b486",
   "metadata": {},
   "source": [
    "# Property Decorators"
   ]
  },
  {
   "cell_type": "code",
   "execution_count": 117,
   "id": "ef4079a6-f7e5-40ac-a0ac-26e8dbd22ff1",
   "metadata": {},
   "outputs": [],
   "source": [
    "class student:\n",
    "    def __init__(self,fname,lname):\n",
    "        self.fname=fname\n",
    "        self.lname=lname\n",
    "        self.email=fname+'.'+lname+'@gmail.com'\n",
    "\n",
    "    def fullname(self):\n",
    "        return self.fname+self.lname\n",
    "\n",
    "std1=student('Anmol','chalise')\n",
    "std2=student('Amol','meheta')\n",
    "\n",
    "\n"
   ]
  },
  {
   "cell_type": "code",
   "execution_count": 118,
   "id": "6170f931-c4a0-4d44-bf2f-99853e050842",
   "metadata": {},
   "outputs": [
    {
     "name": "stdout",
     "output_type": "stream",
     "text": [
      "Avish\n",
      "Anmol.chalise@gmail.com\n",
      "Avishchalise\n"
     ]
    }
   ],
   "source": [
    "#problem in this\n",
    "std1.fname='Avish'\n",
    "print(std1.fname)\n",
    "print(std1.email)\n",
    "print(std1.fullname())"
   ]
  },
  {
   "cell_type": "code",
   "execution_count": 121,
   "id": "27f60f6f-e23a-4392-8408-252dfcca8173",
   "metadata": {},
   "outputs": [
    {
     "name": "stdout",
     "output_type": "stream",
     "text": [
      "Avish\n",
      "Avishchalise@gmail.com\n",
      "Avishchalise\n"
     ]
    }
   ],
   "source": [
    "# we can see that email is not changed for that we can use method as property \n",
    "class student:\n",
    "    def __init__(self,fname,lname):\n",
    "        self.fname=fname\n",
    "        self.lname=lname\n",
    "\n",
    "    @property  #added portion\n",
    "    def email(self):\n",
    "        return f'{self.fname}{self.lname}@gmail.com'\n",
    "        \n",
    "    @property #added portion\n",
    "    def fullname(self):\n",
    "        return self.fname+self.lname\n",
    "\n",
    "std1=student('Anmol','chalise')\n",
    "std2=student('Amol','meheta')\n",
    "#------------------------------------------------------------------------------------------\n",
    "std1.fname='Avish'\n",
    "print(std1.fname)\n",
    "print(std1.email)\n",
    "print(std1.fullname)               #no need to call it as a method"
   ]
  },
  {
   "cell_type": "code",
   "execution_count": 122,
   "id": "689c6bb8-2433-42ac-a1ea-06b3886f75c2",
   "metadata": {},
   "outputs": [
    {
     "ename": "AttributeError",
     "evalue": "property 'fullname' of 'student' object has no setter",
     "output_type": "error",
     "traceback": [
      "\u001b[0;31m---------------------------------------------------------------------------\u001b[0m",
      "\u001b[0;31mAttributeError\u001b[0m                            Traceback (most recent call last)",
      "Cell \u001b[0;32mIn[122], line 2\u001b[0m\n\u001b[1;32m      1\u001b[0m \u001b[38;5;66;03m#but what if \u001b[39;00m\n\u001b[0;32m----> 2\u001b[0m \u001b[43mstd1\u001b[49m\u001b[38;5;241;43m.\u001b[39;49m\u001b[43mfullname\u001b[49m\u001b[38;5;241m=\u001b[39m\u001b[38;5;124m'\u001b[39m\u001b[38;5;124mAakriti Chalise\u001b[39m\u001b[38;5;124m'\u001b[39m\n\u001b[1;32m      3\u001b[0m \u001b[38;5;28mprint\u001b[39m(std1\u001b[38;5;241m.\u001b[39mfname)\n\u001b[1;32m      4\u001b[0m \u001b[38;5;28mprint\u001b[39m(std1\u001b[38;5;241m.\u001b[39memail)\n",
      "\u001b[0;31mAttributeError\u001b[0m: property 'fullname' of 'student' object has no setter"
     ]
    }
   ],
   "source": [
    "#but what if \n",
    "std1.fullname='Aakriti Chalise'\n",
    "print(std1.fname)\n",
    "print(std1.email)\n",
    "print(std1.fullname) "
   ]
  },
  {
   "cell_type": "code",
   "execution_count": 136,
   "id": "7f3df680-545d-4325-b9c2-04a24ced47fa",
   "metadata": {},
   "outputs": [
    {
     "name": "stdout",
     "output_type": "stream",
     "text": [
      "Manoj\n",
      "ManojKhanal@gmail.com\n",
      "ManojKhanal\n",
      "\n",
      "\n",
      "Delete Name!\n",
      "None\n",
      "NoneNone@gmail.com\n",
      "Name deleted successfully\n"
     ]
    }
   ],
   "source": [
    "# so to tackle above error we want setter \n",
    "class student:\n",
    "    def __init__(self,fname,lname):\n",
    "        self.fname=fname\n",
    "        self.lname=lname\n",
    "\n",
    "    @property  #added portion\n",
    "    def email(self):\n",
    "        return f'{self.fname}{self.lname}@gmail.com'\n",
    "        \n",
    "    @property    #added portion\n",
    "    def fullname(self):\n",
    "        if self.fname==None or self.lname==None:\n",
    "            return f'Name deleted successfully'\n",
    "        return self.fname+self.lname\n",
    "\n",
    "    @fullname.setter\n",
    "    def fullname(self,name):\n",
    "        self.fname,self.lname=name.split(' ')\n",
    "\n",
    "    @fullname.deleter\n",
    "    def fullname(self):\n",
    "        self.fname=None\n",
    "        self.lname=None\n",
    "        print('Delete Name!')\n",
    "        \n",
    "std1=student('Anmol','chalise')\n",
    "std2=student('Amol','meheta')\n",
    "#------------------------------------------------------------------------------------------\n",
    "std1.fullname='Manoj Khanal'\n",
    "print(std1.fname)\n",
    "print(std1.email)\n",
    "print(std1.fullname)     \n",
    "#------------------------------------------------------------------------------------------\n",
    "\n",
    "print('\\n')\n",
    "del std1.fullname\n",
    "print(std1.fname)\n",
    "print(std1.email)\n",
    "print(std1.fullname)  \n",
    "#------------------------------------------------------------------------------------------\n",
    "#so if we want to access method as an attribute , use @property decoraror\n",
    "# and if we want to assign method a value as an attribute ,create setter for that property class"
   ]
  },
  {
   "cell_type": "markdown",
   "id": "fa7ecfd2-9430-4afc-8bda-8719acf7b10f",
   "metadata": {},
   "source": [
    "# just an implementation for fun"
   ]
  },
  {
   "cell_type": "code",
   "execution_count": 1,
   "id": "d9a87ae9-85e5-4d74-9106-0ed2deb77756",
   "metadata": {},
   "outputs": [
    {
     "name": "stdout",
     "output_type": "stream",
     "text": [
      "2 3\n",
      "this class adds 2 and 3 \n",
      "5\n"
     ]
    }
   ],
   "source": [
    "class okay:\n",
    "    def __init__(self,a,b):\n",
    "        self.a=a\n",
    "        self.b=b\n",
    "        \n",
    "    def __call__(self):\n",
    "        return self.a+self.b\n",
    "\n",
    "    @classmethod\n",
    "    def from_string(cls,c):\n",
    "        a,b=c.split('+')\n",
    "        return cls(int(a),int(b))     #it calls dunder init\n",
    "        \n",
    "    def add(self):\n",
    "        return self()\n",
    "\n",
    "    def __repr__(self):\n",
    "        return (f'okay({self.a},{self.b})')\n",
    "\n",
    "    def __str__(self):\n",
    "        return f'this class adds {self.a} and {self.b} '    #it calls dunder call\n",
    "\n",
    "c='2+3'\n",
    "x=okay.from_string(c)\n",
    "print(x.a,x.b)\n",
    "print(x)\n",
    "z=okay(2,3)\n",
    "print(z())"
   ]
  },
  {
   "cell_type": "code",
   "execution_count": null,
   "id": "01c08a2c-33aa-409e-bab6-f3cc158446e6",
   "metadata": {},
   "outputs": [],
   "source": []
  },
  {
   "cell_type": "code",
   "execution_count": null,
   "id": "011295f7-4d45-4f29-84f5-e2ec2d743a34",
   "metadata": {},
   "outputs": [],
   "source": []
  }
 ],
 "metadata": {
  "kernelspec": {
   "display_name": "Python 3 (ipykernel)",
   "language": "python",
   "name": "python3"
  },
  "language_info": {
   "codemirror_mode": {
    "name": "ipython",
    "version": 3
   },
   "file_extension": ".py",
   "mimetype": "text/x-python",
   "name": "python",
   "nbconvert_exporter": "python",
   "pygments_lexer": "ipython3",
   "version": "3.11.2"
  }
 },
 "nbformat": 4,
 "nbformat_minor": 5
}
